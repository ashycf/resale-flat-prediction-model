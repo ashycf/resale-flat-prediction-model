{
 "cells": [
  {
   "cell_type": "code",
   "execution_count": 1,
   "id": "a761a4a7",
   "metadata": {},
   "outputs": [],
   "source": [
    "import numpy as np\n",
    "from pyspark.sql import SparkSession\n",
    "from pyspark.ml.regression import LinearRegression\n",
    "from pyspark.sql.functions import col, isnan, when, count, upper, countDistinct, sqrt\n",
    "import matplotlib.pyplot as plt\n",
    "from pyspark.sql import Column\n",
    "from pyspark.ml import Pipeline\n",
    "from pyspark.ml.feature import OneHotEncoder, StringIndexer\n",
    "from pyspark.sql.types import IntegerType\n",
    "from pyspark.ml.feature import StandardScaler\n",
    "from pyspark.ml.feature import VectorAssembler\n",
    "from pyspark.ml.stat import Correlation\n",
    "import matplotlib.pyplot as plt\n",
    "from pyspark.ml.regression import DecisionTreeRegressor\n",
    "from pyspark.ml.evaluation import MulticlassClassificationEvaluator\n",
    "from sklearn.metrics import confusion_matrix\n",
    "from pyspark.ml.evaluation import RegressionEvaluator"
   ]
  },
  {
   "cell_type": "code",
   "execution_count": 2,
   "id": "4a81498d",
   "metadata": {},
   "outputs": [],
   "source": [
    "import psycopg2\n",
    "import pandas as pd"
   ]
  },
  {
   "cell_type": "code",
   "execution_count": 3,
   "id": "5608504f",
   "metadata": {},
   "outputs": [],
   "source": [
    "spark = SparkSession.builder.getOrCreate()"
   ]
  },
  {
   "cell_type": "code",
   "execution_count": 4,
   "id": "73c538c4",
   "metadata": {},
   "outputs": [],
   "source": [
    "host =\"np-ado-assg2-group2-server.postgres.database.azure.com\"\n",
    "port = 5432\n",
    "dbname = \"postgres\"\n",
    "username = \"ashycf@np-ado-assg2-group2-server\"\n",
    "pwd =  \"03C988322c04\"\n",
    "table = \"jan2017_onwards_dataset\"\n",
    "with psycopg2.connect(\"host='{}' port = {} dbname = '{}' user = {} password = {}\". format(host, port, dbname, username, pwd)) as conn:\n",
    "    sql = \"select * from {};\".format(table)\n",
    "    df = pd.read_sql_query(sql, conn)"
   ]
  },
  {
   "cell_type": "code",
   "execution_count": 5,
   "id": "ad0eed88",
   "metadata": {},
   "outputs": [
    {
     "name": "stdout",
     "output_type": "stream",
     "text": [
      "root\n",
      " |-- town: string (nullable = true)\n",
      " |-- block: string (nullable = true)\n",
      " |-- month: string (nullable = true)\n",
      " |-- flat_type: string (nullable = true)\n",
      " |-- flat_model: string (nullable = true)\n",
      " |-- street_name: string (nullable = true)\n",
      " |-- resale_price: string (nullable = true)\n",
      " |-- storey_range: string (nullable = true)\n",
      " |-- floor_area_sqm: string (nullable = true)\n",
      " |-- remaining_lease: string (nullable = true)\n",
      " |-- lease_commence_date: string (nullable = true)\n",
      " |-- _airbyte_ab_id: string (nullable = true)\n",
      " |-- _airbyte_emitted_at: timestamp (nullable = true)\n",
      " |-- _airbyte_normalized_at: timestamp (nullable = true)\n",
      " |-- _airbyte_jan2017_onwards_dataset_hashid: string (nullable = true)\n",
      "\n",
      "+----------+-----+-------+---------+--------------+-----------------+------------+------------+--------------+------------------+-------------------+--------------------+-------------------+----------------------+---------------------------------------+\n",
      "|      town|block|  month|flat_type|    flat_model|      street_name|resale_price|storey_range|floor_area_sqm|   remaining_lease|lease_commence_date|      _airbyte_ab_id|_airbyte_emitted_at|_airbyte_normalized_at|_airbyte_jan2017_onwards_dataset_hashid|\n",
      "+----------+-----+-------+---------+--------------+-----------------+------------+------------+--------------+------------------+-------------------+--------------------+-------------------+----------------------+---------------------------------------+\n",
      "|ANG MO KIO|  406|2017-01|   2 ROOM|      Improved|ANG MO KIO AVE 10|    232000.0|    10 TO 12|          44.0|61 years 04 months|               1979|233cb434-cc39-4b8...|2023-01-25 23:49:29|  2023-01-25 23:50:...|                   165edd61d9d4fba03...|\n",
      "|ANG MO KIO|  108|2017-01|   3 ROOM|New Generation| ANG MO KIO AVE 4|    250000.0|    01 TO 03|          67.0|60 years 07 months|               1978|3ddce804-a206-4e7...|2023-01-25 23:49:29|  2023-01-25 23:50:...|                   d12148554bad59a8c...|\n",
      "|ANG MO KIO|  602|2017-01|   3 ROOM|New Generation| ANG MO KIO AVE 5|    262000.0|    01 TO 03|          67.0|62 years 05 months|               1980|99ba8379-0fa7-45b...|2023-01-25 23:49:29|  2023-01-25 23:50:...|                   a7dfc0b7d33a227b9...|\n",
      "|ANG MO KIO|  465|2017-01|   3 ROOM|New Generation|ANG MO KIO AVE 10|    265000.0|    04 TO 06|          68.0| 62 years 01 month|               1980|249455cd-e669-460...|2023-01-25 23:49:29|  2023-01-25 23:50:...|                   efa55e35ebb4e3769...|\n",
      "|ANG MO KIO|  601|2017-01|   3 ROOM|New Generation| ANG MO KIO AVE 5|    265000.0|    01 TO 03|          67.0|62 years 05 months|               1980|51960b24-385d-430...|2023-01-25 23:49:29|  2023-01-25 23:50:...|                   7e3ecb9b4c2c83e76...|\n",
      "|ANG MO KIO|  150|2017-01|   3 ROOM|New Generation| ANG MO KIO AVE 5|    275000.0|    01 TO 03|          68.0|          63 years|               1981|ff4f5064-20c6-45e...|2023-01-25 23:49:29|  2023-01-25 23:50:...|                   cb997f4d3ac6aaf82...|\n",
      "|ANG MO KIO|  447|2017-01|   3 ROOM|New Generation|ANG MO KIO AVE 10|    280000.0|    04 TO 06|          68.0|61 years 06 months|               1979|d7043c74-7f0a-418...|2023-01-25 23:49:29|  2023-01-25 23:50:...|                   3ffc93dd53e5500a7...|\n",
      "|ANG MO KIO|  218|2017-01|   3 ROOM|New Generation| ANG MO KIO AVE 1|    285000.0|    04 TO 06|          67.0|58 years 04 months|               1976|83ce3389-ff2b-4ea...|2023-01-25 23:49:29|  2023-01-25 23:50:...|                   2236ba8cb974c3a02...|\n",
      "|ANG MO KIO|  447|2017-01|   3 ROOM|New Generation|ANG MO KIO AVE 10|    285000.0|    04 TO 06|          68.0|61 years 06 months|               1979|b5046f03-c28b-476...|2023-01-25 23:49:29|  2023-01-25 23:50:...|                   797ce2c4359a476c4...|\n",
      "|ANG MO KIO|  571|2017-01|   3 ROOM|New Generation| ANG MO KIO AVE 3|    285000.0|    01 TO 03|          67.0|61 years 04 months|               1979|b393714a-4b0b-4b4...|2023-01-25 23:49:29|  2023-01-25 23:50:...|                   fb3107b474a9d63ad...|\n",
      "|ANG MO KIO|  534|2017-01|   3 ROOM|New Generation|ANG MO KIO AVE 10|    288500.0|    01 TO 03|          68.0| 62 years 01 month|               1980|db511455-5b3c-4ee...|2023-01-25 23:49:29|  2023-01-25 23:50:...|                   5be90a220eabc4716...|\n",
      "|ANG MO KIO|  233|2017-01|   3 ROOM|New Generation| ANG MO KIO AVE 3|    295000.0|    10 TO 12|          67.0|59 years 08 months|               1977|0eedd5a2-396d-44d...|2023-01-25 23:49:29|  2023-01-25 23:50:...|                   1b9ebe563ee815ee1...|\n",
      "|ANG MO KIO|  235|2017-01|   3 ROOM|New Generation| ANG MO KIO AVE 3|    295000.0|    04 TO 06|          67.0|59 years 08 months|               1977|eeb61e53-7ed0-4bc...|2023-01-25 23:49:29|  2023-01-25 23:50:...|                   52d8e80a245d6390f...|\n",
      "|ANG MO KIO|  219|2017-01|   3 ROOM|New Generation| ANG MO KIO AVE 1|    297000.0|    07 TO 09|          67.0|59 years 06 months|               1977|a26aed5a-72fd-4f2...|2023-01-25 23:49:29|  2023-01-25 23:50:...|                   d676f56651690f06c...|\n",
      "|ANG MO KIO|  536|2017-01|   3 ROOM|New Generation|ANG MO KIO AVE 10|    298000.0|    07 TO 09|          68.0| 62 years 01 month|               1980|e6bb5511-386e-46b...|2023-01-25 23:49:29|  2023-01-25 23:50:...|                   b9c669fffdece056b...|\n",
      "|ANG MO KIO|  230|2017-01|   3 ROOM|New Generation| ANG MO KIO AVE 3|    298000.0|    04 TO 06|          67.0|          60 years|               1978|73fc081c-2199-40e...|2023-01-25 23:49:29|  2023-01-25 23:50:...|                   3910537e4a1c52d1e...|\n",
      "|ANG MO KIO|  570|2017-01|   3 ROOM|New Generation| ANG MO KIO AVE 3|    300000.0|    10 TO 12|          67.0|61 years 04 months|               1979|8599d2a5-29f9-402...|2023-01-25 23:49:29|  2023-01-25 23:50:...|                   b5ac25ab2a64fc6c6...|\n",
      "|ANG MO KIO|  624|2017-01|   3 ROOM|New Generation| ANG MO KIO AVE 4|    301000.0|    04 TO 06|          68.0|62 years 08 months|               1980|40d0ec67-0587-4d6...|2023-01-25 23:49:29|  2023-01-25 23:50:...|                   f3ea17a5f9303b140...|\n",
      "|ANG MO KIO|  441|2017-01|   3 ROOM|New Generation|ANG MO KIO AVE 10|    306000.0|    07 TO 09|          67.0|          61 years|               1979|0d269ec0-a507-4bd...|2023-01-25 23:49:29|  2023-01-25 23:50:...|                   6420f4eb2dd9360fd...|\n",
      "|ANG MO KIO|  625|2017-01|   3 ROOM|New Generation| ANG MO KIO AVE 9|    312000.0|    04 TO 06|          68.0|62 years 08 months|               1980|20c61096-aab9-485...|2023-01-25 23:49:29|  2023-01-25 23:50:...|                   352cf9c2681f3e82c...|\n",
      "+----------+-----+-------+---------+--------------+-----------------+------------+------------+--------------+------------------+-------------------+--------------------+-------------------+----------------------+---------------------------------------+\n",
      "only showing top 20 rows\n",
      "\n"
     ]
    }
   ],
   "source": [
    "df = spark.createDataFrame(df) \n",
    "df.printSchema()\n",
    "df.show()"
   ]
  },
  {
   "cell_type": "code",
   "execution_count": 6,
   "id": "7e169fe5",
   "metadata": {},
   "outputs": [
    {
     "name": "stdout",
     "output_type": "stream",
     "text": [
      "+----------+-----+-------+---------+--------------+-----------------+------------+------------+--------------+------------------+-------------------+--------------------+-------------------+----------------------+---------------------------------------+\n",
      "|      town|block|  month|flat_type|    flat_model|      street_name|resale_price|storey_range|floor_area_sqm|   remaining_lease|lease_commence_date|      _airbyte_ab_id|_airbyte_emitted_at|_airbyte_normalized_at|_airbyte_jan2017_onwards_dataset_hashid|\n",
      "+----------+-----+-------+---------+--------------+-----------------+------------+------------+--------------+------------------+-------------------+--------------------+-------------------+----------------------+---------------------------------------+\n",
      "|ANG MO KIO|  406|2017-01|   2 ROOM|      Improved|ANG MO KIO AVE 10|    232000.0|    10 TO 12|          44.0|61 years 04 months|               1979|233cb434-cc39-4b8...|2023-01-25 23:49:29|  2023-01-25 23:50:...|                   165edd61d9d4fba03...|\n",
      "|ANG MO KIO|  108|2017-01|   3 ROOM|New Generation| ANG MO KIO AVE 4|    250000.0|    01 TO 03|          67.0|60 years 07 months|               1978|3ddce804-a206-4e7...|2023-01-25 23:49:29|  2023-01-25 23:50:...|                   d12148554bad59a8c...|\n",
      "|ANG MO KIO|  602|2017-01|   3 ROOM|New Generation| ANG MO KIO AVE 5|    262000.0|    01 TO 03|          67.0|62 years 05 months|               1980|99ba8379-0fa7-45b...|2023-01-25 23:49:29|  2023-01-25 23:50:...|                   a7dfc0b7d33a227b9...|\n",
      "|ANG MO KIO|  465|2017-01|   3 ROOM|New Generation|ANG MO KIO AVE 10|    265000.0|    04 TO 06|          68.0| 62 years 01 month|               1980|249455cd-e669-460...|2023-01-25 23:49:29|  2023-01-25 23:50:...|                   efa55e35ebb4e3769...|\n",
      "|ANG MO KIO|  601|2017-01|   3 ROOM|New Generation| ANG MO KIO AVE 5|    265000.0|    01 TO 03|          67.0|62 years 05 months|               1980|51960b24-385d-430...|2023-01-25 23:49:29|  2023-01-25 23:50:...|                   7e3ecb9b4c2c83e76...|\n",
      "|ANG MO KIO|  150|2017-01|   3 ROOM|New Generation| ANG MO KIO AVE 5|    275000.0|    01 TO 03|          68.0|          63 years|               1981|ff4f5064-20c6-45e...|2023-01-25 23:49:29|  2023-01-25 23:50:...|                   cb997f4d3ac6aaf82...|\n",
      "|ANG MO KIO|  447|2017-01|   3 ROOM|New Generation|ANG MO KIO AVE 10|    280000.0|    04 TO 06|          68.0|61 years 06 months|               1979|d7043c74-7f0a-418...|2023-01-25 23:49:29|  2023-01-25 23:50:...|                   3ffc93dd53e5500a7...|\n",
      "|ANG MO KIO|  218|2017-01|   3 ROOM|New Generation| ANG MO KIO AVE 1|    285000.0|    04 TO 06|          67.0|58 years 04 months|               1976|83ce3389-ff2b-4ea...|2023-01-25 23:49:29|  2023-01-25 23:50:...|                   2236ba8cb974c3a02...|\n",
      "|ANG MO KIO|  447|2017-01|   3 ROOM|New Generation|ANG MO KIO AVE 10|    285000.0|    04 TO 06|          68.0|61 years 06 months|               1979|b5046f03-c28b-476...|2023-01-25 23:49:29|  2023-01-25 23:50:...|                   797ce2c4359a476c4...|\n",
      "|ANG MO KIO|  571|2017-01|   3 ROOM|New Generation| ANG MO KIO AVE 3|    285000.0|    01 TO 03|          67.0|61 years 04 months|               1979|b393714a-4b0b-4b4...|2023-01-25 23:49:29|  2023-01-25 23:50:...|                   fb3107b474a9d63ad...|\n",
      "+----------+-----+-------+---------+--------------+-----------------+------------+------------+--------------+------------------+-------------------+--------------------+-------------------+----------------------+---------------------------------------+\n",
      "only showing top 10 rows\n",
      "\n"
     ]
    }
   ],
   "source": [
    "df.show(10)"
   ]
  },
  {
   "cell_type": "code",
   "execution_count": 7,
   "id": "1815f4ff",
   "metadata": {},
   "outputs": [],
   "source": [
    "df = df.drop(\"_airbyte_ab_id\",\"_airbyte_emitted_at\",\"_airbyte_jan2017_onwards_dataset_hashid\",\"\")"
   ]
  },
  {
   "cell_type": "code",
   "execution_count": 8,
   "id": "d30ab9e5",
   "metadata": {},
   "outputs": [
    {
     "name": "stdout",
     "output_type": "stream",
     "text": [
      "+----------+-----+-------+---------+--------------+-----------------+------------+------------+--------------+------------------+-------------------+----------------------+\n",
      "|      town|block|  month|flat_type|    flat_model|      street_name|resale_price|storey_range|floor_area_sqm|   remaining_lease|lease_commence_date|_airbyte_normalized_at|\n",
      "+----------+-----+-------+---------+--------------+-----------------+------------+------------+--------------+------------------+-------------------+----------------------+\n",
      "|ANG MO KIO|  406|2017-01|   2 ROOM|      Improved|ANG MO KIO AVE 10|    232000.0|    10 TO 12|          44.0|61 years 04 months|               1979|  2023-01-25 23:50:...|\n",
      "|ANG MO KIO|  108|2017-01|   3 ROOM|New Generation| ANG MO KIO AVE 4|    250000.0|    01 TO 03|          67.0|60 years 07 months|               1978|  2023-01-25 23:50:...|\n",
      "|ANG MO KIO|  602|2017-01|   3 ROOM|New Generation| ANG MO KIO AVE 5|    262000.0|    01 TO 03|          67.0|62 years 05 months|               1980|  2023-01-25 23:50:...|\n",
      "|ANG MO KIO|  465|2017-01|   3 ROOM|New Generation|ANG MO KIO AVE 10|    265000.0|    04 TO 06|          68.0| 62 years 01 month|               1980|  2023-01-25 23:50:...|\n",
      "|ANG MO KIO|  601|2017-01|   3 ROOM|New Generation| ANG MO KIO AVE 5|    265000.0|    01 TO 03|          67.0|62 years 05 months|               1980|  2023-01-25 23:50:...|\n",
      "|ANG MO KIO|  150|2017-01|   3 ROOM|New Generation| ANG MO KIO AVE 5|    275000.0|    01 TO 03|          68.0|          63 years|               1981|  2023-01-25 23:50:...|\n",
      "|ANG MO KIO|  447|2017-01|   3 ROOM|New Generation|ANG MO KIO AVE 10|    280000.0|    04 TO 06|          68.0|61 years 06 months|               1979|  2023-01-25 23:50:...|\n",
      "|ANG MO KIO|  218|2017-01|   3 ROOM|New Generation| ANG MO KIO AVE 1|    285000.0|    04 TO 06|          67.0|58 years 04 months|               1976|  2023-01-25 23:50:...|\n",
      "|ANG MO KIO|  447|2017-01|   3 ROOM|New Generation|ANG MO KIO AVE 10|    285000.0|    04 TO 06|          68.0|61 years 06 months|               1979|  2023-01-25 23:50:...|\n",
      "|ANG MO KIO|  571|2017-01|   3 ROOM|New Generation| ANG MO KIO AVE 3|    285000.0|    01 TO 03|          67.0|61 years 04 months|               1979|  2023-01-25 23:50:...|\n",
      "|ANG MO KIO|  534|2017-01|   3 ROOM|New Generation|ANG MO KIO AVE 10|    288500.0|    01 TO 03|          68.0| 62 years 01 month|               1980|  2023-01-25 23:50:...|\n",
      "|ANG MO KIO|  233|2017-01|   3 ROOM|New Generation| ANG MO KIO AVE 3|    295000.0|    10 TO 12|          67.0|59 years 08 months|               1977|  2023-01-25 23:50:...|\n",
      "|ANG MO KIO|  235|2017-01|   3 ROOM|New Generation| ANG MO KIO AVE 3|    295000.0|    04 TO 06|          67.0|59 years 08 months|               1977|  2023-01-25 23:50:...|\n",
      "|ANG MO KIO|  219|2017-01|   3 ROOM|New Generation| ANG MO KIO AVE 1|    297000.0|    07 TO 09|          67.0|59 years 06 months|               1977|  2023-01-25 23:50:...|\n",
      "|ANG MO KIO|  536|2017-01|   3 ROOM|New Generation|ANG MO KIO AVE 10|    298000.0|    07 TO 09|          68.0| 62 years 01 month|               1980|  2023-01-25 23:50:...|\n",
      "|ANG MO KIO|  230|2017-01|   3 ROOM|New Generation| ANG MO KIO AVE 3|    298000.0|    04 TO 06|          67.0|          60 years|               1978|  2023-01-25 23:50:...|\n",
      "|ANG MO KIO|  570|2017-01|   3 ROOM|New Generation| ANG MO KIO AVE 3|    300000.0|    10 TO 12|          67.0|61 years 04 months|               1979|  2023-01-25 23:50:...|\n",
      "|ANG MO KIO|  624|2017-01|   3 ROOM|New Generation| ANG MO KIO AVE 4|    301000.0|    04 TO 06|          68.0|62 years 08 months|               1980|  2023-01-25 23:50:...|\n",
      "|ANG MO KIO|  441|2017-01|   3 ROOM|New Generation|ANG MO KIO AVE 10|    306000.0|    07 TO 09|          67.0|          61 years|               1979|  2023-01-25 23:50:...|\n",
      "|ANG MO KIO|  625|2017-01|   3 ROOM|New Generation| ANG MO KIO AVE 9|    312000.0|    04 TO 06|          68.0|62 years 08 months|               1980|  2023-01-25 23:50:...|\n",
      "+----------+-----+-------+---------+--------------+-----------------+------------+------------+--------------+------------------+-------------------+----------------------+\n",
      "only showing top 20 rows\n",
      "\n"
     ]
    }
   ],
   "source": [
    "df.show()"
   ]
  },
  {
   "cell_type": "code",
   "execution_count": 9,
   "id": "920da331",
   "metadata": {},
   "outputs": [],
   "source": [
    "df = df.drop(\"_airbyte_normalized_at\")"
   ]
  },
  {
   "cell_type": "code",
   "execution_count": 10,
   "id": "35a57e4a",
   "metadata": {},
   "outputs": [
    {
     "name": "stdout",
     "output_type": "stream",
     "text": [
      "+----+-----+-----+---------+----------+-----------+------------+------------+--------------+---------------+-------------------+\n",
      "|town|block|month|flat_type|flat_model|street_name|resale_price|storey_range|floor_area_sqm|remaining_lease|lease_commence_date|\n",
      "+----+-----+-----+---------+----------+-----------+------------+------------+--------------+---------------+-------------------+\n",
      "|   0|    0|    0|        0|         0|          0|           0|           0|             0|              0|                  0|\n",
      "+----+-----+-----+---------+----------+-----------+------------+------------+--------------+---------------+-------------------+\n",
      "\n"
     ]
    }
   ],
   "source": [
    "df.select([count(when(isnan(c) | col(c).isNull(), c)).alias(c) for c in df.columns]).show()"
   ]
  },
  {
   "cell_type": "code",
   "execution_count": 11,
   "id": "a7311c2c",
   "metadata": {},
   "outputs": [],
   "source": [
    "numlist = [item[0] for item in df.dtypes if (item[1].startswith('int') or item[1].startswith('double'))]\n",
    "for i in numlist:\n",
    "    if i != 'resale_price':\n",
    "        df = df.withColumn(i, sqrt(col(i)))"
   ]
  },
  {
   "cell_type": "code",
   "execution_count": 12,
   "id": "ffff3bf2",
   "metadata": {},
   "outputs": [],
   "source": [
    "strings_used = [\"town\", \"block\", 'street_name', 'flat_model','remaining_lease','floor_area_sqm','lease_commence_date','month']\n",
    "\n",
    "stage_string = [StringIndexer(inputCol= c, outputCol= c+\"_string_encoded\") for c in strings_used]\n",
    "stage_one_hot = [OneHotEncoder(inputCol= c+\"_string_encoded\", outputCol= c+ \"_one_hot\") for c in strings_used]\n",
    "\n",
    "ppl = Pipeline(stages= stage_string + stage_one_hot)\n",
    "df_ohe = ppl.fit(df).transform(df)"
   ]
  },
  {
   "cell_type": "code",
   "execution_count": 13,
   "id": "1cf4aaaa",
   "metadata": {},
   "outputs": [],
   "source": [
    "mapping= {\n",
    "        '1 ROOM': '1',\n",
    "        '2 ROOM': '2', '3 ROOM': '3', '4 ROOM': '4', '5 ROOM': '5', 'EXECUTIVE': '6', 'MULTI-GENERATION': '7'\n",
    "    }\n",
    "df_ohe = df_ohe.replace(to_replace=mapping, subset=['flat_type'])\n",
    "df_ohe = df_ohe.withColumn(\"flat_type\", df_ohe[\"flat_type\"].cast(IntegerType()))"
   ]
  },
  {
   "cell_type": "code",
   "execution_count": 14,
   "id": "88f79f5b",
   "metadata": {},
   "outputs": [],
   "source": [
    "mapping= {\n",
    "    '01 TO 03': \"1\",\n",
    "    '04 TO 06': \"2\",\n",
    "    '07 TO 09': \"3\",\n",
    "    '10 TO 12': \"4\",\n",
    "    '13 TO 15': \"5\",\n",
    "    '16 TO 18': \"6\",\n",
    "    '19 TO 21': \"7\",\n",
    "    '22 TO 24': \"8\",\n",
    "    '25 TO 27': \"9\",\n",
    "    '28 TO 30': \"10\",\n",
    "    '31 TO 33': \"11\",\n",
    "    '34 TO 36': \"12\",\n",
    "    '37 TO 39': \"13\",\n",
    "    '40 TO 42': \"14\",\n",
    "    '43 TO 45': \"15\",\n",
    "    '46 TO 48': \"16\",\n",
    "    '49 TO 51': \"17\",\n",
    "        \n",
    "    }\n",
    "df_ohe = df_ohe.replace(to_replace=mapping, subset=['storey_range'])\n",
    "df_ohe = df_ohe.withColumn(\"storey_range\", df_ohe[\"storey_range\"].cast(IntegerType()))"
   ]
  },
  {
   "cell_type": "code",
   "execution_count": 15,
   "id": "363d0130",
   "metadata": {},
   "outputs": [],
   "source": [
    "df_ohe = df_ohe.drop(\"town\", \"block\", 'street_name', 'flat_model','remaining_lease','floor_area_sqm','lease_commence_date','month')"
   ]
  },
  {
   "cell_type": "code",
   "execution_count": 16,
   "id": "2cc06ea3",
   "metadata": {},
   "outputs": [
    {
     "name": "stdout",
     "output_type": "stream",
     "text": [
      "+-------+------------------+------------------+------------------+-------------------+--------------------+--------------------------+-------------------------+------------------------------+-----------------------------+----------------------------------+--------------------+\n",
      "|summary|         flat_type|      resale_price|      storey_range|town_string_encoded|block_string_encoded|street_name_string_encoded|flat_model_string_encoded|remaining_lease_string_encoded|floor_area_sqm_string_encoded|lease_commence_date_string_encoded|month_string_encoded|\n",
      "+-------+------------------+------------------+------------------+-------------------+--------------------+--------------------------+-------------------------+------------------------------+-----------------------------+----------------------------------+--------------------+\n",
      "|  count|            114221|            114221|            114221|             114221|              114221|                    114221|                   114221|                        114221|                       114221|                            114221|              114221|\n",
      "|   mean| 4.136165853914779| 467423.7405536636|3.2302553821101196|  8.355092321026781|    643.068367463076|        141.18604284676198|       1.9207238598856602|            197.45835704467655|           23.212990605930607|                15.626968771066617|  25.763940081070906|\n",
      "| stddev|0.9242033036092419|164328.23001562318|1.9575612140079293|  6.532503495094789|   616.5517084438809|         127.1420832003215|         2.33889623600432|              154.539934969562|            25.63324773880122|                12.547154931614333|  16.517981297652216|\n",
      "|    min|                 1|           1000000|                 1|                0.0|                 0.0|                       0.0|                      0.0|                           0.0|                          0.0|                               0.0|                 0.0|\n",
      "|    max|                 7|          999888.0|                17|               25.0|              2636.0|                     562.0|                     20.0|                         650.0|                        162.0|                              53.0|                59.0|\n",
      "+-------+------------------+------------------+------------------+-------------------+--------------------+--------------------------+-------------------------+------------------------------+-----------------------------+----------------------------------+--------------------+\n",
      "\n"
     ]
    }
   ],
   "source": [
    "df_ohe.describe().show()"
   ]
  },
  {
   "cell_type": "code",
   "execution_count": 17,
   "id": "7ecf930d",
   "metadata": {},
   "outputs": [
    {
     "name": "stdout",
     "output_type": "stream",
     "text": [
      "+---------+------------+-------------------+--------------------+--------------------------+-------------------------+------------------------------+-----------------------------+----------------------------------+--------------------+--------------+------------------+-------------------+------------------+-----------------------+----------------------+---------------------------+---------------+-------------------+\n",
      "|flat_type|storey_range|town_string_encoded|block_string_encoded|street_name_string_encoded|flat_model_string_encoded|remaining_lease_string_encoded|floor_area_sqm_string_encoded|lease_commence_date_string_encoded|month_string_encoded|  town_one_hot|     block_one_hot|street_name_one_hot|flat_model_one_hot|remaining_lease_one_hot|floor_area_sqm_one_hot|lease_commence_date_one_hot|  month_one_hot|resale_price_target|\n",
      "+---------+------------+-------------------+--------------------+--------------------------+-------------------------+------------------------------+-----------------------------+----------------------------------+--------------------+--------------+------------------+-------------------+------------------+-----------------------+----------------------+---------------------------+---------------+-------------------+\n",
      "|        2|           4|                9.0|                73.0|                       4.0|                      1.0|                         106.0|                         84.0|                              19.0|                54.0|(25,[9],[1.0])| (2636,[73],[1.0])|    (562,[4],[1.0])|    (20,[1],[1.0])|      (650,[106],[1.0])|      (162,[84],[1.0])|            (53,[19],[1.0])|(59,[54],[1.0])|           232000.0|\n",
      "|        3|           1|                9.0|                16.0|                      26.0|                      2.0|                         278.0|                          0.0|                              12.0|                54.0|(25,[9],[1.0])| (2636,[16],[1.0])|   (562,[26],[1.0])|    (20,[2],[1.0])|      (650,[278],[1.0])|       (162,[0],[1.0])|            (53,[12],[1.0])|(59,[54],[1.0])|           250000.0|\n",
      "|        3|           1|                9.0|               169.0|                      35.0|                      2.0|                         218.0|                          0.0|                              21.0|                54.0|(25,[9],[1.0])|(2636,[169],[1.0])|   (562,[35],[1.0])|    (20,[2],[1.0])|      (650,[218],[1.0])|       (162,[0],[1.0])|            (53,[21],[1.0])|(59,[54],[1.0])|           262000.0|\n",
      "|        3|           2|                9.0|               355.0|                       4.0|                      2.0|                         168.0|                          4.0|                              21.0|                54.0|(25,[9],[1.0])|(2636,[355],[1.0])|    (562,[4],[1.0])|    (20,[2],[1.0])|      (650,[168],[1.0])|       (162,[4],[1.0])|            (53,[21],[1.0])|(59,[54],[1.0])|           265000.0|\n",
      "|        3|           1|                9.0|               260.0|                      35.0|                      2.0|                         218.0|                          0.0|                              21.0|                54.0|(25,[9],[1.0])|(2636,[260],[1.0])|   (562,[35],[1.0])|    (20,[2],[1.0])|      (650,[218],[1.0])|       (162,[0],[1.0])|            (53,[21],[1.0])|(59,[54],[1.0])|           265000.0|\n",
      "|        3|           1|                9.0|               214.0|                      35.0|                      2.0|                         181.0|                          4.0|                              30.0|                54.0|(25,[9],[1.0])|(2636,[214],[1.0])|   (562,[35],[1.0])|    (20,[2],[1.0])|      (650,[181],[1.0])|       (162,[4],[1.0])|            (53,[30],[1.0])|(59,[54],[1.0])|           275000.0|\n",
      "|        3|           2|                9.0|               603.0|                       4.0|                      2.0|                         180.0|                          4.0|                              19.0|                54.0|(25,[9],[1.0])|(2636,[603],[1.0])|    (562,[4],[1.0])|    (20,[2],[1.0])|      (650,[180],[1.0])|       (162,[4],[1.0])|            (53,[19],[1.0])|(59,[54],[1.0])|           280000.0|\n",
      "|        3|           2|                9.0|               215.0|                      38.0|                      2.0|                         267.0|                          0.0|                              26.0|                54.0|(25,[9],[1.0])|(2636,[215],[1.0])|   (562,[38],[1.0])|    (20,[2],[1.0])|      (650,[267],[1.0])|       (162,[0],[1.0])|            (53,[26],[1.0])|(59,[54],[1.0])|           285000.0|\n",
      "|        3|           2|                9.0|               603.0|                       4.0|                      2.0|                         180.0|                          4.0|                              19.0|                54.0|(25,[9],[1.0])|(2636,[603],[1.0])|    (562,[4],[1.0])|    (20,[2],[1.0])|      (650,[180],[1.0])|       (162,[4],[1.0])|            (53,[19],[1.0])|(59,[54],[1.0])|           285000.0|\n",
      "|        3|           1|                9.0|               487.0|                       6.0|                      2.0|                         106.0|                          0.0|                              19.0|                54.0|(25,[9],[1.0])|(2636,[487],[1.0])|    (562,[6],[1.0])|    (20,[2],[1.0])|      (650,[106],[1.0])|       (162,[0],[1.0])|            (53,[19],[1.0])|(59,[54],[1.0])|           285000.0|\n",
      "|        3|           1|                9.0|               174.0|                       4.0|                      2.0|                         168.0|                          4.0|                              21.0|                54.0|(25,[9],[1.0])|(2636,[174],[1.0])|    (562,[4],[1.0])|    (20,[2],[1.0])|      (650,[168],[1.0])|       (162,[4],[1.0])|            (53,[21],[1.0])|(59,[54],[1.0])|           288500.0|\n",
      "|        3|           4|                9.0|               134.0|                       6.0|                      2.0|                         285.0|                          0.0|                              31.0|                54.0|(25,[9],[1.0])|(2636,[134],[1.0])|    (562,[6],[1.0])|    (20,[2],[1.0])|      (650,[285],[1.0])|       (162,[0],[1.0])|            (53,[31],[1.0])|(59,[54],[1.0])|           295000.0|\n",
      "|        3|           2|                9.0|               151.0|                       6.0|                      2.0|                         285.0|                          0.0|                              31.0|                54.0|(25,[9],[1.0])|(2636,[151],[1.0])|    (562,[6],[1.0])|    (20,[2],[1.0])|      (650,[285],[1.0])|       (162,[0],[1.0])|            (53,[31],[1.0])|(59,[54],[1.0])|           295000.0|\n",
      "|        3|           3|                9.0|               122.0|                      38.0|                      2.0|                         322.0|                          0.0|                              31.0|                54.0|(25,[9],[1.0])|(2636,[122],[1.0])|   (562,[38],[1.0])|    (20,[2],[1.0])|      (650,[322],[1.0])|       (162,[0],[1.0])|            (53,[31],[1.0])|(59,[54],[1.0])|           297000.0|\n",
      "|        3|           3|                9.0|               155.0|                       4.0|                      2.0|                         168.0|                          4.0|                              21.0|                54.0|(25,[9],[1.0])|(2636,[155],[1.0])|    (562,[4],[1.0])|    (20,[2],[1.0])|      (650,[168],[1.0])|       (162,[4],[1.0])|            (53,[21],[1.0])|(59,[54],[1.0])|           298000.0|\n",
      "|        3|           2|                9.0|                98.0|                       6.0|                      2.0|                         294.0|                          0.0|                              12.0|                54.0|(25,[9],[1.0])| (2636,[98],[1.0])|    (562,[6],[1.0])|    (20,[2],[1.0])|      (650,[294],[1.0])|       (162,[0],[1.0])|            (53,[12],[1.0])|(59,[54],[1.0])|           298000.0|\n",
      "|        3|           4|                9.0|               562.0|                       6.0|                      2.0|                         106.0|                          0.0|                              19.0|                54.0|(25,[9],[1.0])|(2636,[562],[1.0])|    (562,[6],[1.0])|    (20,[2],[1.0])|      (650,[106],[1.0])|       (162,[0],[1.0])|            (53,[19],[1.0])|(59,[54],[1.0])|           300000.0|\n",
      "|        3|           2|                9.0|               470.0|                      26.0|                      2.0|                         197.0|                          4.0|                              21.0|                54.0|(25,[9],[1.0])|(2636,[470],[1.0])|   (562,[26],[1.0])|    (20,[2],[1.0])|      (650,[197],[1.0])|       (162,[4],[1.0])|            (53,[21],[1.0])|(59,[54],[1.0])|           301000.0|\n",
      "|        3|           3|                9.0|               681.0|                       4.0|                      2.0|                         196.0|                          0.0|                              19.0|                54.0|(25,[9],[1.0])|(2636,[681],[1.0])|    (562,[4],[1.0])|    (20,[2],[1.0])|      (650,[196],[1.0])|       (162,[0],[1.0])|            (53,[19],[1.0])|(59,[54],[1.0])|           306000.0|\n",
      "|        3|           2|                9.0|               283.0|                     432.0|                      2.0|                         197.0|                          4.0|                              21.0|                54.0|(25,[9],[1.0])|(2636,[283],[1.0])|  (562,[432],[1.0])|    (20,[2],[1.0])|      (650,[197],[1.0])|       (162,[4],[1.0])|            (53,[21],[1.0])|(59,[54],[1.0])|           312000.0|\n",
      "+---------+------------+-------------------+--------------------+--------------------------+-------------------------+------------------------------+-----------------------------+----------------------------------+--------------------+--------------+------------------+-------------------+------------------+-----------------------+----------------------+---------------------------+---------------+-------------------+\n",
      "only showing top 20 rows\n",
      "\n"
     ]
    }
   ],
   "source": [
    "df_final = df_ohe.withColumn('resale_price_target', df_ohe.resale_price)\n",
    "df_final = df_final.drop('resale_price')\n",
    "df_final.show()"
   ]
  },
  {
   "cell_type": "code",
   "execution_count": 36,
   "id": "dd9ce2f3",
   "metadata": {},
   "outputs": [
    {
     "name": "stdout",
     "output_type": "stream",
     "text": [
      "root\n",
      " |-- flat_type: integer (nullable = true)\n",
      " |-- storey_range: integer (nullable = true)\n",
      " |-- town_string_encoded: double (nullable = false)\n",
      " |-- block_string_encoded: double (nullable = false)\n",
      " |-- street_name_string_encoded: double (nullable = false)\n",
      " |-- flat_model_string_encoded: double (nullable = false)\n",
      " |-- remaining_lease_string_encoded: double (nullable = false)\n",
      " |-- floor_area_sqm_string_encoded: double (nullable = false)\n",
      " |-- lease_commence_date_string_encoded: double (nullable = false)\n",
      " |-- month_string_encoded: double (nullable = false)\n",
      " |-- town_one_hot: vector (nullable = true)\n",
      " |-- block_one_hot: vector (nullable = true)\n",
      " |-- street_name_one_hot: vector (nullable = true)\n",
      " |-- flat_model_one_hot: vector (nullable = true)\n",
      " |-- remaining_lease_one_hot: vector (nullable = true)\n",
      " |-- floor_area_sqm_one_hot: vector (nullable = true)\n",
      " |-- lease_commence_date_one_hot: vector (nullable = true)\n",
      " |-- month_one_hot: vector (nullable = true)\n",
      " |-- resale_price_target: string (nullable = true)\n",
      "\n"
     ]
    }
   ],
   "source": [
    "df_final.printSchema()"
   ]
  },
  {
   "cell_type": "code",
   "execution_count": 38,
   "id": "06a250b9",
   "metadata": {},
   "outputs": [],
   "source": [
    "df_final = df_final.withColumn(\"resale_price_target\",df_final.resale_price_target.cast('int'))"
   ]
  },
  {
   "cell_type": "code",
   "execution_count": 39,
   "id": "a0b52c36",
   "metadata": {},
   "outputs": [
    {
     "name": "stdout",
     "output_type": "stream",
     "text": [
      "root\n",
      " |-- flat_type: integer (nullable = true)\n",
      " |-- storey_range: integer (nullable = true)\n",
      " |-- town_string_encoded: double (nullable = false)\n",
      " |-- block_string_encoded: double (nullable = false)\n",
      " |-- street_name_string_encoded: double (nullable = false)\n",
      " |-- flat_model_string_encoded: double (nullable = false)\n",
      " |-- remaining_lease_string_encoded: double (nullable = false)\n",
      " |-- floor_area_sqm_string_encoded: double (nullable = false)\n",
      " |-- lease_commence_date_string_encoded: double (nullable = false)\n",
      " |-- month_string_encoded: double (nullable = false)\n",
      " |-- town_one_hot: vector (nullable = true)\n",
      " |-- block_one_hot: vector (nullable = true)\n",
      " |-- street_name_one_hot: vector (nullable = true)\n",
      " |-- flat_model_one_hot: vector (nullable = true)\n",
      " |-- remaining_lease_one_hot: vector (nullable = true)\n",
      " |-- floor_area_sqm_one_hot: vector (nullable = true)\n",
      " |-- lease_commence_date_one_hot: vector (nullable = true)\n",
      " |-- month_one_hot: vector (nullable = true)\n",
      " |-- resale_price_target: integer (nullable = true)\n",
      "\n"
     ]
    }
   ],
   "source": [
    "df_final.printSchema()"
   ]
  },
  {
   "cell_type": "code",
   "execution_count": 40,
   "id": "e0eca908",
   "metadata": {},
   "outputs": [],
   "source": [
    "(train, test) = df_final.randomSplit([0.8, 0.2], seed=0)"
   ]
  },
  {
   "cell_type": "code",
   "execution_count": 41,
   "id": "0f214dc9",
   "metadata": {},
   "outputs": [
    {
     "data": {
      "text/plain": [
       "(91355, 19)"
      ]
     },
     "execution_count": 41,
     "metadata": {},
     "output_type": "execute_result"
    }
   ],
   "source": [
    "train.count(), len(train.columns)"
   ]
  },
  {
   "cell_type": "code",
   "execution_count": 42,
   "id": "f2ed3956",
   "metadata": {},
   "outputs": [
    {
     "data": {
      "text/plain": [
       "(22866, 19)"
      ]
     },
     "execution_count": 42,
     "metadata": {},
     "output_type": "execute_result"
    }
   ],
   "source": [
    "test.count(), len(test.columns)"
   ]
  },
  {
   "cell_type": "code",
   "execution_count": 43,
   "id": "327fb6fd",
   "metadata": {},
   "outputs": [
    {
     "name": "stdout",
     "output_type": "stream",
     "text": [
      "+---------+------------+-------------------+--------------------+--------------------------+-------------------------+------------------------------+-----------------------------+----------------------------------+--------------------+---------------+-------------------+-------------------+------------------+-----------------------+----------------------+---------------------------+---------------+-------------------+\n",
      "|flat_type|storey_range|town_string_encoded|block_string_encoded|street_name_string_encoded|flat_model_string_encoded|remaining_lease_string_encoded|floor_area_sqm_string_encoded|lease_commence_date_string_encoded|month_string_encoded|town_one_hot   |block_one_hot      |street_name_one_hot|flat_model_one_hot|remaining_lease_one_hot|floor_area_sqm_one_hot|lease_commence_date_one_hot|month_one_hot  |resale_price_target|\n",
      "+---------+------------+-------------------+--------------------+--------------------------+-------------------------+------------------------------+-----------------------------+----------------------------------+--------------------+---------------+-------------------+-------------------+------------------+-----------------------+----------------------+---------------------------+---------------+-------------------+\n",
      "|1        |1           |11.0               |12.0                |97.0                      |1.0                      |344.0                         |115.0                        |32.0                              |33.0                |(25,[11],[1.0])|(2636,[12],[1.0])  |(562,[97],[1.0])   |(20,[1],[1.0])    |(650,[344],[1.0])      |(162,[115],[1.0])     |(53,[32],[1.0])            |(59,[33],[1.0])|200000             |\n",
      "|1        |1           |11.0               |12.0                |97.0                      |1.0                      |344.0                         |115.0                        |32.0                              |33.0                |(25,[11],[1.0])|(2636,[12],[1.0])  |(562,[97],[1.0])   |(20,[1],[1.0])    |(650,[344],[1.0])      |(162,[115],[1.0])     |(53,[32],[1.0])            |(59,[33],[1.0])|218000             |\n",
      "|1        |3           |11.0               |12.0                |97.0                      |1.0                      |277.0                         |115.0                        |32.0                              |24.0                |(25,[11],[1.0])|(2636,[12],[1.0])  |(562,[97],[1.0])   |(20,[1],[1.0])    |(650,[277],[1.0])      |(162,[115],[1.0])     |(53,[32],[1.0])            |(59,[24],[1.0])|217000             |\n",
      "|2        |1           |0.0                |815.0               |30.0                      |0.0                      |411.0                         |84.0                         |49.0                              |40.0                |(25,[0],[1.0]) |(2636,[815],[1.0]) |(562,[30],[1.0])   |(20,[0],[1.0])    |(650,[411],[1.0])      |(162,[84],[1.0])      |(53,[49],[1.0])            |(59,[40],[1.0])|240000             |\n",
      "|2        |1           |2.0                |2118.0              |128.0                     |3.0                      |421.0                         |78.0                         |40.0                              |54.0                |(25,[2],[1.0]) |(2636,[2118],[1.0])|(562,[128],[1.0])  |(20,[3],[1.0])    |(650,[421],[1.0])      |(162,[78],[1.0])      |(53,[40],[1.0])            |(59,[54],[1.0])|240000             |\n",
      "|2        |1           |5.0                |714.0               |66.0                      |0.0                      |12.0                          |85.0                         |17.0                              |54.0                |(25,[5],[1.0]) |(2636,[714],[1.0]) |(562,[66],[1.0])   |(20,[0],[1.0])    |(650,[12],[1.0])       |(162,[85],[1.0])      |(53,[17],[1.0])            |(59,[54],[1.0])|250000             |\n",
      "|2        |1           |6.0                |82.0                |20.0                      |1.0                      |128.0                         |85.0                         |11.0                              |40.0                |(25,[6],[1.0]) |(2636,[82],[1.0])  |(562,[20],[1.0])   |(20,[1],[1.0])    |(650,[128],[1.0])      |(162,[85],[1.0])      |(53,[11],[1.0])            |(59,[40],[1.0])|240000             |\n",
      "|2        |1           |6.0                |174.0               |20.0                      |1.0                      |243.0                         |85.0                         |11.0                              |56.0                |(25,[6],[1.0]) |(2636,[174],[1.0]) |(562,[20],[1.0])   |(20,[1],[1.0])    |(650,[243],[1.0])      |(162,[85],[1.0])      |(53,[11],[1.0])            |(59,[56],[1.0])|246000             |\n",
      "|2        |1           |9.0                |276.0               |26.0                      |1.0                      |130.0                         |85.0                         |11.0                              |40.0                |(25,[9],[1.0]) |(2636,[276],[1.0]) |(562,[26],[1.0])   |(20,[1],[1.0])    |(650,[130],[1.0])      |(162,[85],[1.0])      |(53,[11],[1.0])            |(59,[40],[1.0])|205000             |\n",
      "|2        |1           |11.0               |0.0                 |428.0                     |7.0                      |468.0                         |136.0                        |48.0                              |40.0                |(25,[11],[1.0])|(2636,[0],[1.0])   |(562,[428],[1.0])  |(20,[7],[1.0])    |(650,[468],[1.0])      |(162,[136],[1.0])     |(53,[48],[1.0])            |(59,[40],[1.0])|205000             |\n",
      "+---------+------------+-------------------+--------------------+--------------------------+-------------------------+------------------------------+-----------------------------+----------------------------------+--------------------+---------------+-------------------+-------------------+------------------+-----------------------+----------------------+---------------------------+---------------+-------------------+\n",
      "only showing top 10 rows\n",
      "\n"
     ]
    }
   ],
   "source": [
    "train.show(10, truncate = False)"
   ]
  },
  {
   "cell_type": "code",
   "execution_count": 44,
   "id": "a6341365",
   "metadata": {},
   "outputs": [
    {
     "name": "stdout",
     "output_type": "stream",
     "text": [
      "+---------+------------+-------------------+--------------------+--------------------------+-------------------------+------------------------------+-----------------------------+----------------------------------+--------------------+---------------+-------------------+-------------------+------------------+-----------------------+----------------------+---------------------------+---------------+-------------------+--------------------+\n",
      "|flat_type|storey_range|town_string_encoded|block_string_encoded|street_name_string_encoded|flat_model_string_encoded|remaining_lease_string_encoded|floor_area_sqm_string_encoded|lease_commence_date_string_encoded|month_string_encoded|   town_one_hot|      block_one_hot|street_name_one_hot|flat_model_one_hot|remaining_lease_one_hot|floor_area_sqm_one_hot|lease_commence_date_one_hot|  month_one_hot|resale_price_target|               Xcols|\n",
      "+---------+------------+-------------------+--------------------+--------------------------+-------------------------+------------------------------+-----------------------------+----------------------------------+--------------------+---------------+-------------------+-------------------+------------------+-----------------------+----------------------+---------------------------+---------------+-------------------+--------------------+\n",
      "|        1|           1|               11.0|                12.0|                      97.0|                      1.0|                         344.0|                        115.0|                              32.0|                33.0|(25,[11],[1.0])|  (2636,[12],[1.0])|   (562,[97],[1.0])|    (20,[1],[1.0])|      (650,[344],[1.0])|     (162,[115],[1.0])|            (53,[32],[1.0])|(59,[33],[1.0])|             200000|(4177,[0,1,2,3,4,...|\n",
      "|        1|           1|               11.0|                12.0|                      97.0|                      1.0|                         344.0|                        115.0|                              32.0|                33.0|(25,[11],[1.0])|  (2636,[12],[1.0])|   (562,[97],[1.0])|    (20,[1],[1.0])|      (650,[344],[1.0])|     (162,[115],[1.0])|            (53,[32],[1.0])|(59,[33],[1.0])|             218000|(4177,[0,1,2,3,4,...|\n",
      "|        1|           3|               11.0|                12.0|                      97.0|                      1.0|                         277.0|                        115.0|                              32.0|                24.0|(25,[11],[1.0])|  (2636,[12],[1.0])|   (562,[97],[1.0])|    (20,[1],[1.0])|      (650,[277],[1.0])|     (162,[115],[1.0])|            (53,[32],[1.0])|(59,[24],[1.0])|             217000|(4177,[0,1,2,3,4,...|\n",
      "|        2|           1|                0.0|               815.0|                      30.0|                      0.0|                         411.0|                         84.0|                              49.0|                40.0| (25,[0],[1.0])| (2636,[815],[1.0])|   (562,[30],[1.0])|    (20,[0],[1.0])|      (650,[411],[1.0])|      (162,[84],[1.0])|            (53,[49],[1.0])|(59,[40],[1.0])|             240000|(4177,[0,1,3,4,6,...|\n",
      "|        2|           1|                2.0|              2118.0|                     128.0|                      3.0|                         421.0|                         78.0|                              40.0|                54.0| (25,[2],[1.0])|(2636,[2118],[1.0])|  (562,[128],[1.0])|    (20,[3],[1.0])|      (650,[421],[1.0])|      (162,[78],[1.0])|            (53,[40],[1.0])|(59,[54],[1.0])|             240000|(4177,[0,1,2,3,4,...|\n",
      "+---------+------------+-------------------+--------------------+--------------------------+-------------------------+------------------------------+-----------------------------+----------------------------------+--------------------+---------------+-------------------+-------------------+------------------+-----------------------+----------------------+---------------------------+---------------+-------------------+--------------------+\n",
      "only showing top 5 rows\n",
      "\n"
     ]
    }
   ],
   "source": [
    "featureassembler=VectorAssembler(inputCols=train.columns[:-1],outputCol=\"Xcols\")\n",
    "train_vectored = featureassembler.transform(train)\n",
    "test_vectored = featureassembler.transform(test)\n",
    "train_vectored.show(5)"
   ]
  },
  {
   "cell_type": "code",
   "execution_count": 45,
   "id": "a1ac3dee",
   "metadata": {},
   "outputs": [
    {
     "name": "stdout",
     "output_type": "stream",
     "text": [
      "+---------+------------+-------------------+--------------------+--------------------------+-------------------------+------------------------------+-----------------------------+----------------------------------+--------------------+---------------+-------------------+-------------------+------------------+-----------------------+----------------------+---------------------------+---------------+-------------------+--------------------+--------------------+\n",
      "|flat_type|storey_range|town_string_encoded|block_string_encoded|street_name_string_encoded|flat_model_string_encoded|remaining_lease_string_encoded|floor_area_sqm_string_encoded|lease_commence_date_string_encoded|month_string_encoded|   town_one_hot|      block_one_hot|street_name_one_hot|flat_model_one_hot|remaining_lease_one_hot|floor_area_sqm_one_hot|lease_commence_date_one_hot|  month_one_hot|resale_price_target|               Xcols|       Xcols_sscaled|\n",
      "+---------+------------+-------------------+--------------------+--------------------------+-------------------------+------------------------------+-----------------------------+----------------------------------+--------------------+---------------+-------------------+-------------------+------------------+-----------------------+----------------------+---------------------------+---------------+-------------------+--------------------+--------------------+\n",
      "|        1|           1|               11.0|                12.0|                      97.0|                      1.0|                         344.0|                        115.0|                              32.0|                33.0|(25,[11],[1.0])|  (2636,[12],[1.0])|   (562,[97],[1.0])|    (20,[1],[1.0])|      (650,[344],[1.0])|     (162,[115],[1.0])|            (53,[32],[1.0])|(59,[33],[1.0])|             200000|(4177,[0,1,2,3,4,...|[-3.3960607666831...|\n",
      "|        1|           1|               11.0|                12.0|                      97.0|                      1.0|                         344.0|                        115.0|                              32.0|                33.0|(25,[11],[1.0])|  (2636,[12],[1.0])|   (562,[97],[1.0])|    (20,[1],[1.0])|      (650,[344],[1.0])|     (162,[115],[1.0])|            (53,[32],[1.0])|(59,[33],[1.0])|             218000|(4177,[0,1,2,3,4,...|[-3.3960607666831...|\n",
      "|        1|           3|               11.0|                12.0|                      97.0|                      1.0|                         277.0|                        115.0|                              32.0|                24.0|(25,[11],[1.0])|  (2636,[12],[1.0])|   (562,[97],[1.0])|    (20,[1],[1.0])|      (650,[277],[1.0])|     (162,[115],[1.0])|            (53,[32],[1.0])|(59,[24],[1.0])|             217000|(4177,[0,1,2,3,4,...|[-3.3960607666831...|\n",
      "|        2|           1|                0.0|               815.0|                      30.0|                      0.0|                         411.0|                         84.0|                              49.0|                40.0| (25,[0],[1.0])| (2636,[815],[1.0])|   (562,[30],[1.0])|    (20,[0],[1.0])|      (650,[411],[1.0])|      (162,[84],[1.0])|            (53,[49],[1.0])|(59,[40],[1.0])|             240000|(4177,[0,1,3,4,6,...|[-2.3136686620596...|\n",
      "|        2|           1|                2.0|              2118.0|                     128.0|                      3.0|                         421.0|                         78.0|                              40.0|                54.0| (25,[2],[1.0])|(2636,[2118],[1.0])|  (562,[128],[1.0])|    (20,[3],[1.0])|      (650,[421],[1.0])|      (162,[78],[1.0])|            (53,[40],[1.0])|(59,[54],[1.0])|             240000|(4177,[0,1,2,3,4,...|[-2.3136686620596...|\n",
      "|        2|           1|                5.0|               714.0|                      66.0|                      0.0|                          12.0|                         85.0|                              17.0|                54.0| (25,[5],[1.0])| (2636,[714],[1.0])|   (562,[66],[1.0])|    (20,[0],[1.0])|       (650,[12],[1.0])|      (162,[85],[1.0])|            (53,[17],[1.0])|(59,[54],[1.0])|             250000|(4177,[0,1,2,3,4,...|[-2.3136686620596...|\n",
      "|        2|           1|                6.0|                82.0|                      20.0|                      1.0|                         128.0|                         85.0|                              11.0|                40.0| (25,[6],[1.0])|  (2636,[82],[1.0])|   (562,[20],[1.0])|    (20,[1],[1.0])|      (650,[128],[1.0])|      (162,[85],[1.0])|            (53,[11],[1.0])|(59,[40],[1.0])|             240000|(4177,[0,1,2,3,4,...|[-2.3136686620596...|\n",
      "|        2|           1|                6.0|               174.0|                      20.0|                      1.0|                         243.0|                         85.0|                              11.0|                56.0| (25,[6],[1.0])| (2636,[174],[1.0])|   (562,[20],[1.0])|    (20,[1],[1.0])|      (650,[243],[1.0])|      (162,[85],[1.0])|            (53,[11],[1.0])|(59,[56],[1.0])|             246000|(4177,[0,1,2,3,4,...|[-2.3136686620596...|\n",
      "|        2|           1|                9.0|               276.0|                      26.0|                      1.0|                         130.0|                         85.0|                              11.0|                40.0| (25,[9],[1.0])| (2636,[276],[1.0])|   (562,[26],[1.0])|    (20,[1],[1.0])|      (650,[130],[1.0])|      (162,[85],[1.0])|            (53,[11],[1.0])|(59,[40],[1.0])|             205000|(4177,[0,1,2,3,4,...|[-2.3136686620596...|\n",
      "|        2|           1|               11.0|                 0.0|                     428.0|                      7.0|                         468.0|                        136.0|                              48.0|                40.0|(25,[11],[1.0])|   (2636,[0],[1.0])|  (562,[428],[1.0])|    (20,[7],[1.0])|      (650,[468],[1.0])|     (162,[136],[1.0])|            (53,[48],[1.0])|(59,[40],[1.0])|             205000|(4177,[0,1,2,4,5,...|[-2.3136686620596...|\n",
      "|        2|           1|               11.0|                65.0|                     441.0|                      7.0|                         512.0|                        133.0|                              45.0|                33.0|(25,[11],[1.0])|  (2636,[65],[1.0])|  (562,[441],[1.0])|    (20,[7],[1.0])|      (650,[512],[1.0])|     (162,[133],[1.0])|            (53,[45],[1.0])|(59,[33],[1.0])|             260000|(4177,[0,1,2,3,4,...|[-2.3136686620596...|\n",
      "|        2|           1|               13.0|                66.0|                     424.0|                      7.0|                          19.0|                        107.0|                              28.0|                40.0|(25,[13],[1.0])|  (2636,[66],[1.0])|  (562,[424],[1.0])|    (20,[7],[1.0])|       (650,[19],[1.0])|     (162,[107],[1.0])|            (53,[28],[1.0])|(59,[40],[1.0])|             215000|(4177,[0,1,2,3,4,...|[-2.3136686620596...|\n",
      "|        2|           1|               15.0|                 1.0|                     308.0|                      7.0|                         478.0|                         97.0|                              37.0|                33.0|(25,[15],[1.0])|   (2636,[1],[1.0])|  (562,[308],[1.0])|    (20,[7],[1.0])|      (650,[478],[1.0])|      (162,[97],[1.0])|            (53,[37],[1.0])|(59,[33],[1.0])|             256000|(4177,[0,1,2,3,4,...|[-2.3136686620596...|\n",
      "|        2|           1|               18.0|               457.0|                      27.0|                      7.0|                         550.0|                         85.0|                              44.0|                40.0|(25,[18],[1.0])| (2636,[457],[1.0])|   (562,[27],[1.0])|    (20,[7],[1.0])|      (650,[550],[1.0])|      (162,[85],[1.0])|            (53,[44],[1.0])|(59,[40],[1.0])|             213000|(4177,[0,1,2,3,4,...|[-2.3136686620596...|\n",
      "|        2|           1|               18.0|               494.0|                      27.0|                      7.0|                         507.0|                         85.0|                              45.0|                56.0|(25,[18],[1.0])| (2636,[494],[1.0])|   (562,[27],[1.0])|    (20,[7],[1.0])|      (650,[507],[1.0])|      (162,[85],[1.0])|            (53,[45],[1.0])|(59,[56],[1.0])|             212000|(4177,[0,1,2,3,4,...|[-2.3136686620596...|\n",
      "|        2|           2|                0.0|               502.0|                      47.0|                      0.0|                           0.0|                         97.0|                               5.0|                40.0| (25,[0],[1.0])| (2636,[502],[1.0])|   (562,[47],[1.0])|    (20,[0],[1.0])|        (650,[0],[1.0])|      (162,[97],[1.0])|             (53,[5],[1.0])|(59,[40],[1.0])|             258000|(4177,[0,1,3,4,7,...|[-2.3136686620596...|\n",
      "|        2|           2|                0.0|               502.0|                      47.0|                      0.0|                           5.0|                         97.0|                               5.0|                56.0| (25,[0],[1.0])| (2636,[502],[1.0])|   (562,[47],[1.0])|    (20,[0],[1.0])|        (650,[5],[1.0])|      (162,[97],[1.0])|             (53,[5],[1.0])|(59,[56],[1.0])|             265000|(4177,[0,1,3,4,6,...|[-2.3136686620596...|\n",
      "|        2|           2|                2.0|               601.0|                      44.0|                      0.0|                         302.0|                         97.0|                              12.0|                40.0| (25,[2],[1.0])| (2636,[601],[1.0])|   (562,[44],[1.0])|    (20,[0],[1.0])|      (650,[302],[1.0])|      (162,[97],[1.0])|            (53,[12],[1.0])|(59,[40],[1.0])|             200000|(4177,[0,1,2,3,4,...|[-2.3136686620596...|\n",
      "|        2|           2|                3.0|               334.0|                       0.0|                      0.0|                           3.0|                         46.0|                              17.0|                54.0| (25,[3],[1.0])| (2636,[334],[1.0])|    (562,[0],[1.0])|    (20,[0],[1.0])|        (650,[3],[1.0])|      (162,[46],[1.0])|            (53,[17],[1.0])|(59,[54],[1.0])|             235000|(4177,[0,1,2,3,6,...|[-2.3136686620596...|\n",
      "|        2|           2|                6.0|                 3.0|                     183.0|                      1.0|                         225.0|                         85.0|                              12.0|                54.0| (25,[6],[1.0])|   (2636,[3],[1.0])|  (562,[183],[1.0])|    (20,[1],[1.0])|      (650,[225],[1.0])|      (162,[85],[1.0])|            (53,[12],[1.0])|(59,[54],[1.0])|             238000|(4177,[0,1,2,3,4,...|[-2.3136686620596...|\n",
      "+---------+------------+-------------------+--------------------+--------------------------+-------------------------+------------------------------+-----------------------------+----------------------------------+--------------------+---------------+-------------------+-------------------+------------------+-----------------------+----------------------+---------------------------+---------------+-------------------+--------------------+--------------------+\n",
      "only showing top 20 rows\n",
      "\n"
     ]
    }
   ],
   "source": [
    "sScaler = StandardScaler(withMean=True, withStd=True, inputCol=\"Xcols\", outputCol=\"Xcols_sscaled\")\n",
    "train_sscaled = sScaler.fit(train_vectored).transform(train_vectored)\n",
    "train_sscaled.show()"
   ]
  },
  {
   "cell_type": "code",
   "execution_count": 46,
   "id": "0e0a03c1",
   "metadata": {},
   "outputs": [
    {
     "name": "stdout",
     "output_type": "stream",
     "text": [
      "+---------+------------+-------------------+--------------------+--------------------------+-------------------------+------------------------------+-----------------------------+----------------------------------+--------------------+---------------+------------------+-------------------+------------------+-----------------------+----------------------+---------------------------+---------------+-------------------+--------------------+--------------------+\n",
      "|flat_type|storey_range|town_string_encoded|block_string_encoded|street_name_string_encoded|flat_model_string_encoded|remaining_lease_string_encoded|floor_area_sqm_string_encoded|lease_commence_date_string_encoded|month_string_encoded|   town_one_hot|     block_one_hot|street_name_one_hot|flat_model_one_hot|remaining_lease_one_hot|floor_area_sqm_one_hot|lease_commence_date_one_hot|  month_one_hot|resale_price_target|               Xcols|       Xcols_sscaled|\n",
      "+---------+------------+-------------------+--------------------+--------------------------+-------------------------+------------------------------+-----------------------------+----------------------------------+--------------------+---------------+------------------+-------------------+------------------+-----------------------+----------------------+---------------------------+---------------+-------------------+--------------------+--------------------+\n",
      "|        2|           2|                6.0|                46.0|                     183.0|                      1.0|                         241.0|                         85.0|                              12.0|                40.0| (25,[6],[1.0])| (2636,[46],[1.0])|  (562,[183],[1.0])|    (20,[1],[1.0])|      (650,[241],[1.0])|      (162,[85],[1.0])|            (53,[12],[1.0])|(59,[40],[1.0])|             220000|(4177,[0,1,2,3,4,...|[-2.3021527112060...|\n",
      "|        2|           2|                9.0|               244.0|                     242.0|                      1.0|                         193.0|                         84.0|                              21.0|                33.0| (25,[9],[1.0])|(2636,[244],[1.0])|  (562,[242],[1.0])|    (20,[1],[1.0])|      (650,[193],[1.0])|      (162,[84],[1.0])|            (53,[21],[1.0])|(59,[33],[1.0])|             230000|(4177,[0,1,2,3,4,...|[-2.3021527112060...|\n",
      "|        2|           2|               16.0|               599.0|                     199.0|                      7.0|                         557.0|                         97.0|                              44.0|                56.0|(25,[16],[1.0])|(2636,[599],[1.0])|  (562,[199],[1.0])|    (20,[7],[1.0])|      (650,[557],[1.0])|      (162,[97],[1.0])|            (53,[44],[1.0])|(59,[56],[1.0])|             225000|(4177,[0,1,2,3,4,...|[-2.3021527112060...|\n",
      "|        2|           2|               23.0|                 4.0|                     478.0|                      1.0|                          66.0|                        116.0|                              35.0|                54.0|(25,[23],[1.0])|  (2636,[4],[1.0])|  (562,[478],[1.0])|    (20,[1],[1.0])|       (650,[66],[1.0])|     (162,[116],[1.0])|            (53,[35],[1.0])|(59,[54],[1.0])|             250000|(4177,[0,1,2,3,4,...|[-2.3021527112060...|\n",
      "|        2|           2|               23.0|                52.0|                     478.0|                      1.0|                         468.0|                        117.0|                              48.0|                33.0|(25,[23],[1.0])| (2636,[52],[1.0])|  (562,[478],[1.0])|    (20,[1],[1.0])|      (650,[468],[1.0])|     (162,[117],[1.0])|            (53,[48],[1.0])|(59,[33],[1.0])|             240000|(4177,[0,1,2,3,4,...|[-2.3021527112060...|\n",
      "|        2|           3|                6.0|               112.0|                       1.0|                      1.0|                         201.0|                         85.0|                              11.0|                33.0| (25,[6],[1.0])|(2636,[112],[1.0])|    (562,[1],[1.0])|    (20,[1],[1.0])|      (650,[201],[1.0])|      (162,[85],[1.0])|            (53,[11],[1.0])|(59,[33],[1.0])|             238000|(4177,[0,1,2,3,4,...|[-2.3021527112060...|\n",
      "|        2|           3|                6.0|               269.0|                      20.0|                      1.0|                          92.0|                         85.0|                               0.0|                56.0| (25,[6],[1.0])|(2636,[269],[1.0])|   (562,[20],[1.0])|    (20,[1],[1.0])|       (650,[92],[1.0])|      (162,[85],[1.0])|             (53,[0],[1.0])|(59,[56],[1.0])|             245000|(4177,[0,1,2,3,4,...|[-2.3021527112060...|\n",
      "|        2|           3|                9.0|               166.0|                     242.0|                      1.0|                         168.0|                         84.0|                              21.0|                24.0| (25,[9],[1.0])|(2636,[166],[1.0])|  (562,[242],[1.0])|    (20,[1],[1.0])|      (650,[168],[1.0])|      (162,[84],[1.0])|            (53,[21],[1.0])|(59,[24],[1.0])|             255000|(4177,[0,1,2,3,4,...|[-2.3021527112060...|\n",
      "|        2|           3|               13.0|                66.0|                     424.0|                      7.0|                          25.0|                        108.0|                              28.0|                33.0|(25,[13],[1.0])| (2636,[66],[1.0])|  (562,[424],[1.0])|    (20,[7],[1.0])|       (650,[25],[1.0])|     (162,[108],[1.0])|            (53,[28],[1.0])|(59,[33],[1.0])|             240000|(4177,[0,1,2,3,4,...|[-2.3021527112060...|\n",
      "|        2|           3|               18.0|               388.0|                      27.0|                      7.0|                         497.0|                        110.0|                              48.0|                54.0|(25,[18],[1.0])|(2636,[388],[1.0])|   (562,[27],[1.0])|    (20,[7],[1.0])|      (650,[497],[1.0])|     (162,[110],[1.0])|            (53,[48],[1.0])|(59,[54],[1.0])|             205000|(4177,[0,1,2,3,4,...|[-2.3021527112060...|\n",
      "|        2|           4|                9.0|               331.0|                       6.0|                      1.0|                         257.0|                         84.0|                              12.0|                40.0| (25,[9],[1.0])|(2636,[331],[1.0])|    (562,[6],[1.0])|    (20,[1],[1.0])|      (650,[257],[1.0])|      (162,[84],[1.0])|            (53,[12],[1.0])|(59,[40],[1.0])|             250000|(4177,[0,1,2,3,4,...|[-2.3021527112060...|\n",
      "|        2|           4|               11.0|               124.0|                     157.0|                      1.0|                         260.0|                         85.0|                              26.0|                33.0|(25,[11],[1.0])|(2636,[124],[1.0])|  (562,[157],[1.0])|    (20,[1],[1.0])|      (650,[260],[1.0])|      (162,[85],[1.0])|            (53,[26],[1.0])|(59,[33],[1.0])|             255000|(4177,[0,1,2,3,4,...|[-2.3021527112060...|\n",
      "|        2|           4|               13.0|                66.0|                     424.0|                      7.0|                          25.0|                        108.0|                              28.0|                33.0|(25,[13],[1.0])| (2636,[66],[1.0])|  (562,[424],[1.0])|    (20,[7],[1.0])|       (650,[25],[1.0])|     (162,[108],[1.0])|            (53,[28],[1.0])|(59,[33],[1.0])|             229000|(4177,[0,1,2,3,4,...|[-2.3021527112060...|\n",
      "|        2|           4|               18.0|                65.0|                     264.0|                      7.0|                         392.0|                         79.0|                              43.0|                54.0|(25,[18],[1.0])| (2636,[65],[1.0])|  (562,[264],[1.0])|    (20,[7],[1.0])|      (650,[392],[1.0])|      (162,[79],[1.0])|            (53,[43],[1.0])|(59,[54],[1.0])|             220000|(4177,[0,1,2,3,4,...|[-2.3021527112060...|\n",
      "|        2|           6|                0.0|               682.0|                       5.0|                      0.0|                          16.0|                        105.0|                              17.0|                33.0| (25,[0],[1.0])|(2636,[682],[1.0])|    (562,[5],[1.0])|    (20,[0],[1.0])|       (650,[16],[1.0])|     (162,[105],[1.0])|            (53,[17],[1.0])|(59,[33],[1.0])|             270000|(4177,[0,1,3,4,6,...|[-2.3021527112060...|\n",
      "|        2|           7|                0.0|               682.0|                       5.0|                      0.0|                          12.0|                        105.0|                              17.0|                54.0| (25,[0],[1.0])|(2636,[682],[1.0])|    (562,[5],[1.0])|    (20,[0],[1.0])|       (650,[12],[1.0])|     (162,[105],[1.0])|            (53,[17],[1.0])|(59,[54],[1.0])|             273000|(4177,[0,1,3,4,6,...|[-2.3021527112060...|\n",
      "|        3|           1|                1.0|               709.0|                     179.0|                      2.0|                         155.0|                         40.0|                              41.0|                56.0| (25,[1],[1.0])|(2636,[709],[1.0])|  (562,[179],[1.0])|    (20,[2],[1.0])|      (650,[155],[1.0])|      (162,[40],[1.0])|            (53,[41],[1.0])|(59,[56],[1.0])|             290000|(4177,[0,1,2,3,4,...|[-1.2216497473841...|\n",
      "|        3|           1|                2.0|                39.0|                     348.0|                      1.0|                         480.0|                          0.0|                              46.0|                54.0| (25,[2],[1.0])| (2636,[39],[1.0])|  (562,[348],[1.0])|    (20,[1],[1.0])|      (650,[480],[1.0])|       (162,[0],[1.0])|            (53,[46],[1.0])|(59,[54],[1.0])|             240000|(4177,[0,1,2,3,4,...|[-1.2216497473841...|\n",
      "|        3|           1|                2.0|                40.0|                     348.0|                      1.0|                         473.0|                          0.0|                              46.0|                40.0| (25,[2],[1.0])| (2636,[40],[1.0])|  (562,[348],[1.0])|    (20,[1],[1.0])|      (650,[473],[1.0])|       (162,[0],[1.0])|            (53,[46],[1.0])|(59,[40],[1.0])|             237000|(4177,[0,1,2,3,4,...|[-1.2216497473841...|\n",
      "|        3|           1|                2.0|               185.0|                     140.0|                      1.0|                         301.0|                         10.0|                              34.0|                33.0| (25,[2],[1.0])|(2636,[185],[1.0])|  (562,[140],[1.0])|    (20,[1],[1.0])|      (650,[301],[1.0])|      (162,[10],[1.0])|            (53,[34],[1.0])|(59,[33],[1.0])|             230000|(4177,[0,1,2,3,4,...|[-1.2216497473841...|\n",
      "+---------+------------+-------------------+--------------------+--------------------------+-------------------------+------------------------------+-----------------------------+----------------------------------+--------------------+---------------+------------------+-------------------+------------------+-----------------------+----------------------+---------------------------+---------------+-------------------+--------------------+--------------------+\n",
      "only showing top 20 rows\n",
      "\n"
     ]
    }
   ],
   "source": [
    "test_sscaled = sScaler.fit(test_vectored).transform(test_vectored)\n",
    "test_sscaled.show()"
   ]
  },
  {
   "cell_type": "code",
   "execution_count": 47,
   "id": "3eed5401",
   "metadata": {},
   "outputs": [
    {
     "name": "stdout",
     "output_type": "stream",
     "text": [
      "+--------------------+-------------------+\n",
      "|               Xcols|resale_price_target|\n",
      "+--------------------+-------------------+\n",
      "|(4177,[0,1,2,3,4,...|             200000|\n",
      "|(4177,[0,1,2,3,4,...|             218000|\n",
      "|(4177,[0,1,2,3,4,...|             217000|\n",
      "|(4177,[0,1,3,4,6,...|             240000|\n",
      "|(4177,[0,1,2,3,4,...|             240000|\n",
      "|(4177,[0,1,2,3,4,...|             250000|\n",
      "|(4177,[0,1,2,3,4,...|             240000|\n",
      "|(4177,[0,1,2,3,4,...|             246000|\n",
      "|(4177,[0,1,2,3,4,...|             205000|\n",
      "|(4177,[0,1,2,4,5,...|             205000|\n",
      "+--------------------+-------------------+\n",
      "only showing top 10 rows\n",
      "\n"
     ]
    }
   ],
   "source": [
    "train_data = train_sscaled.select(\"Xcols\",\"resale_price_target\")\n",
    "train_data.show(10)"
   ]
  },
  {
   "cell_type": "code",
   "execution_count": 48,
   "id": "e8a8d28f",
   "metadata": {},
   "outputs": [
    {
     "name": "stdout",
     "output_type": "stream",
     "text": [
      "+--------------------+-------------------+\n",
      "|               Xcols|resale_price_target|\n",
      "+--------------------+-------------------+\n",
      "|(4177,[0,1,2,3,4,...|             220000|\n",
      "|(4177,[0,1,2,3,4,...|             230000|\n",
      "|(4177,[0,1,2,3,4,...|             225000|\n",
      "|(4177,[0,1,2,3,4,...|             250000|\n",
      "|(4177,[0,1,2,3,4,...|             240000|\n",
      "|(4177,[0,1,2,3,4,...|             238000|\n",
      "|(4177,[0,1,2,3,4,...|             245000|\n",
      "|(4177,[0,1,2,3,4,...|             255000|\n",
      "|(4177,[0,1,2,3,4,...|             240000|\n",
      "|(4177,[0,1,2,3,4,...|             205000|\n",
      "+--------------------+-------------------+\n",
      "only showing top 10 rows\n",
      "\n"
     ]
    }
   ],
   "source": [
    "test_data = test_sscaled.select(\"Xcols\",\"resale_price_target\")\n",
    "test_data.show(10)"
   ]
  },
  {
   "cell_type": "code",
   "execution_count": 49,
   "id": "8ca4e12a",
   "metadata": {},
   "outputs": [],
   "source": [
    "train_data_scaled = train_sscaled.select(\"Xcols_sscaled\",\"resale_price_target\")"
   ]
  },
  {
   "cell_type": "code",
   "execution_count": 50,
   "id": "96af1b6c",
   "metadata": {},
   "outputs": [],
   "source": [
    "test_data_scaled = test_sscaled.select(\"Xcols_sscaled\",\"resale_price_target\")"
   ]
  },
  {
   "cell_type": "code",
   "execution_count": 51,
   "id": "33d3007b",
   "metadata": {},
   "outputs": [],
   "source": [
    "regressor=LinearRegression(featuresCol=\"Xcols\", labelCol='resale_price_target')\n",
    "regressor=regressor.fit(train_data)"
   ]
  },
  {
   "cell_type": "code",
   "execution_count": 52,
   "id": "0e7d9696",
   "metadata": {},
   "outputs": [
    {
     "name": "stdout",
     "output_type": "stream",
     "text": [
      "+--------------------+-------------------+------------------+\n",
      "|               Xcols|resale_price_target|        prediction|\n",
      "+--------------------+-------------------+------------------+\n",
      "|(4177,[0,1,2,3,4,...|             200000|191966.62397878134|\n",
      "|(4177,[0,1,2,3,4,...|             218000|191966.62397878134|\n",
      "|(4177,[0,1,2,3,4,...|             217000|  215130.337164209|\n",
      "|(4177,[0,1,3,4,6,...|             240000|186193.04571980634|\n",
      "|(4177,[0,1,2,3,4,...|             240000|217428.21800692278|\n",
      "|(4177,[0,1,2,3,4,...|             250000| 261858.7183465945|\n",
      "|(4177,[0,1,2,3,4,...|             240000|191302.69635636252|\n",
      "|(4177,[0,1,2,3,4,...|             246000| 192017.5278576208|\n",
      "|(4177,[0,1,2,3,4,...|             205000|183793.28510047455|\n",
      "|(4177,[0,1,2,4,5,...|             205000|226889.47511410966|\n",
      "|(4177,[0,1,2,3,4,...|             260000|203146.16887530076|\n",
      "|(4177,[0,1,2,3,4,...|             215000|226027.41481083012|\n",
      "|(4177,[0,1,2,3,4,...|             256000| 267153.3494372277|\n",
      "|(4177,[0,1,2,3,4,...|             213000| 176334.7318086205|\n",
      "|(4177,[0,1,2,3,4,...|             212000|212789.07708291055|\n",
      "|(4177,[0,1,3,4,7,...|             258000|211699.79720593564|\n",
      "|(4177,[0,1,3,4,6,...|             265000|208068.62913643837|\n",
      "|(4177,[0,1,2,3,4,...|             200000|133621.61524472377|\n",
      "|(4177,[0,1,2,3,6,...|             235000|199313.05636384687|\n",
      "|(4177,[0,1,2,3,4,...|             238000|199437.71243300667|\n",
      "+--------------------+-------------------+------------------+\n",
      "only showing top 20 rows\n",
      "\n"
     ]
    }
   ],
   "source": [
    "train_pred_results=regressor.evaluate(train_data)\n",
    "train_pred_results.predictions.show()"
   ]
  },
  {
   "cell_type": "code",
   "execution_count": 53,
   "id": "a3c6a0e9",
   "metadata": {},
   "outputs": [
    {
     "name": "stdout",
     "output_type": "stream",
     "text": [
      "+--------------------+-------------------+------------------+\n",
      "|               Xcols|resale_price_target|        prediction|\n",
      "+--------------------+-------------------+------------------+\n",
      "|(4177,[0,1,2,3,4,...|             220000| 193250.0832874582|\n",
      "|(4177,[0,1,2,3,4,...|             230000| 220375.4535684948|\n",
      "|(4177,[0,1,2,3,4,...|             225000| 275531.6623782346|\n",
      "|(4177,[0,1,2,3,4,...|             250000|279076.77490534814|\n",
      "|(4177,[0,1,2,3,4,...|             240000| 246680.1315682449|\n",
      "|(4177,[0,1,2,3,4,...|             238000|221182.46494629182|\n",
      "|(4177,[0,1,2,3,4,...|             245000|208663.61537480954|\n",
      "|(4177,[0,1,2,3,4,...|             255000|247078.63815296703|\n",
      "|(4177,[0,1,2,3,4,...|             240000|226875.77398549768|\n",
      "|(4177,[0,1,2,3,4,...|             205000|246978.63471477557|\n",
      "|(4177,[0,1,2,3,4,...|             250000|230008.71875772774|\n",
      "|(4177,[0,1,2,3,4,...|             255000|  274185.081850845|\n",
      "|(4177,[0,1,2,3,4,...|             229000| 238712.0696715629|\n",
      "|(4177,[0,1,2,3,4,...|             220000|255578.66986765005|\n",
      "|(4177,[0,1,3,4,6,...|             270000|249470.27694834938|\n",
      "|(4177,[0,1,3,4,6,...|             273000|   263242.14883749|\n",
      "|(4177,[0,1,2,3,4,...|             290000|172667.38153620972|\n",
      "|(4177,[0,1,2,3,4,...|             240000|233820.58679848016|\n",
      "|(4177,[0,1,2,3,4,...|             237000|208705.10544224162|\n",
      "|(4177,[0,1,2,3,4,...|             230000| 201975.7498195888|\n",
      "+--------------------+-------------------+------------------+\n",
      "only showing top 20 rows\n",
      "\n"
     ]
    }
   ],
   "source": [
    "test_pred_results=regressor.evaluate(test_data)\n",
    "test_pred_results.predictions.show()"
   ]
  },
  {
   "cell_type": "code",
   "execution_count": 54,
   "id": "a885ead9",
   "metadata": {},
   "outputs": [
    {
     "data": {
      "text/plain": [
       "(26146.800546172282, 1259362819.1452284, 0.953176524904894)"
      ]
     },
     "execution_count": 54,
     "metadata": {},
     "output_type": "execute_result"
    }
   ],
   "source": [
    "train_pred_results.meanAbsoluteError, train_pred_results.meanSquaredError, train_pred_results.r2"
   ]
  },
  {
   "cell_type": "code",
   "execution_count": 55,
   "id": "1c3a5162",
   "metadata": {},
   "outputs": [
    {
     "data": {
      "text/plain": [
       "(27605.582737245302, 1394974634.71882, 0.9491501769823724)"
      ]
     },
     "execution_count": 55,
     "metadata": {},
     "output_type": "execute_result"
    }
   ],
   "source": [
    "test_pred_results.meanAbsoluteError, test_pred_results.meanSquaredError, test_pred_results.r2"
   ]
  },
  {
   "cell_type": "code",
   "execution_count": null,
   "id": "95f1cedc",
   "metadata": {},
   "outputs": [],
   "source": []
  }
 ],
 "metadata": {
  "kernelspec": {
   "display_name": "Python 3 (ipykernel)",
   "language": "python",
   "name": "python3"
  },
  "language_info": {
   "codemirror_mode": {
    "name": "ipython",
    "version": 3
   },
   "file_extension": ".py",
   "mimetype": "text/x-python",
   "name": "python",
   "nbconvert_exporter": "python",
   "pygments_lexer": "ipython3",
   "version": "3.9.7"
  }
 },
 "nbformat": 4,
 "nbformat_minor": 5
}
